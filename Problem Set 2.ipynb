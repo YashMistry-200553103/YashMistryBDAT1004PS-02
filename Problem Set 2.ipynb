{
 "cells": [
  {
   "cell_type": "markdown",
   "id": "cfaa6b0a",
   "metadata": {},
   "source": [
    "##  Question 1"
   ]
  },
  {
   "cell_type": "code",
   "execution_count": 19,
   "id": "8ba7dc1b",
   "metadata": {},
   "outputs": [],
   "source": [
    "a = 0\n",
    "def b():\n",
    "    global a\n",
    "    a = c(a)\n",
    "    print(a)\n",
    "\n",
    "def c(a):\n",
    "    return a+2"
   ]
  },
  {
   "cell_type": "code",
   "execution_count": 20,
   "id": "0d4bfa3c",
   "metadata": {},
   "outputs": [
    {
     "name": "stdout",
     "output_type": "stream",
     "text": [
      "2\n",
      "4\n",
      "6\n"
     ]
    }
   ],
   "source": [
    "b()\n",
    "b()\n",
    "b()"
   ]
  },
  {
   "cell_type": "code",
   "execution_count": 21,
   "id": "3820dc7e",
   "metadata": {},
   "outputs": [
    {
     "data": {
      "text/plain": [
       "6"
      ]
     },
     "execution_count": 21,
     "metadata": {},
     "output_type": "execute_result"
    }
   ],
   "source": [
    "a"
   ]
  },
  {
   "cell_type": "markdown",
   "id": "fb4a7ff5",
   "metadata": {},
   "source": [
    "## Explaination :\n",
    "####                    When the code is executed as described , the value displayed by the expression a is 6. \n",
    "####                1. The variable a is declared and assigned the value of o.\n",
    "####                2. The function b() is defined.\n",
    "####                3. The function c(a) is defined and which returns a+2.\n",
    "####                4. The first call b() executes. Again, since a is a global variable within the function,\n",
    "####                   the current value of a outside of the function is used.So, c(a) returns a+2, which is 2,\n",
    "####                   so, the value of a is set to 2.\n",
    "####                5. The second call to b() executes. Again, since a is a global variable within the function,\n",
    "####                   the current value of a is now 2 and is used as the argument to c(a).\n",
    "####                   So, c(a) returns a+2, which 2+2.so, the resultant value of a is set to 4.\n",
    "####                6. The third call to b() executes. As the previous,the current value of a(which is 4) is used\n",
    "####                   as the argument to c(a), and c(a) returns a+2, which is now 6.So, the resultant value of a is 6.\n",
    "####                7. Finally, the expression a is evaluated, which simply return the current value of a, which is 6. "
   ]
  },
  {
   "cell_type": "markdown",
   "id": "227a2fbe",
   "metadata": {},
   "source": [
    "## Question 2"
   ]
  },
  {
   "cell_type": "code",
   "execution_count": 23,
   "id": "b80f3008",
   "metadata": {},
   "outputs": [],
   "source": [
    "def file_length(file_name):\n",
    "    try:\n",
    "        file_open = open(file_name)\n",
    "        file_content = file_open.read()\n",
    "        file_open.close()\n",
    "        print(len(file_content))\n",
    "    except FileNotFoundError:\n",
    "        print(f\"file {file_name} is not found.\")"
   ]
  },
  {
   "cell_type": "code",
   "execution_count": 24,
   "id": "68ae72e9",
   "metadata": {},
   "outputs": [
    {
     "name": "stdout",
     "output_type": "stream",
     "text": [
      "123\n"
     ]
    }
   ],
   "source": [
    "file_length(\"C:/Users/Admin/Desktop/Sem 1/BDAT 1004 D.P Roshan sahu/Assignment/ProblemSet2/Filelength.txt\")"
   ]
  },
  {
   "cell_type": "code",
   "execution_count": 25,
   "id": "6d9e25fb",
   "metadata": {},
   "outputs": [
    {
     "name": "stdout",
     "output_type": "stream",
     "text": [
      "file C:/Users/Admin/Desktop/Sem 1/BDAT 1004 D.P Roshan sahu/Assignment/ProblemSet2/Filelength1.txt is not found.\n"
     ]
    }
   ],
   "source": [
    "file_length(\"C:/Users/Admin/Desktop/Sem 1/BDAT 1004 D.P Roshan sahu/Assignment/ProblemSet2/Filelength1.txt\")"
   ]
  },
  {
   "cell_type": "markdown",
   "id": "48585bcf",
   "metadata": {},
   "source": [
    "## Question 3"
   ]
  },
  {
   "cell_type": "code",
   "execution_count": 33,
   "id": "05fa14dd",
   "metadata": {},
   "outputs": [],
   "source": [
    "class Marsupial:\n",
    "\n",
    "    def __init__(self):\n",
    "        self.pouch = []\n",
    "\n",
    "    def put_in_pouch(self, toy):\n",
    "        self.pouch.append(toy)\n",
    "\n",
    "    def pouch_contents(self):\n",
    "        return self.pouch"
   ]
  },
  {
   "cell_type": "code",
   "execution_count": 34,
   "id": "1f8d4e87",
   "metadata": {},
   "outputs": [
    {
     "name": "stdout",
     "output_type": "stream",
     "text": [
      "['doll', 'firetruck', 'kitten']\n"
     ]
    }
   ],
   "source": [
    "m = Marsupial()\n",
    "m.put_in_pouch('doll')\n",
    "m.put_in_pouch('firetruck')\n",
    "m.put_in_pouch('kitten')\n",
    "m.pouch_contents()\n",
    "\n",
    "print(m.pouch_contents())"
   ]
  },
  {
   "cell_type": "code",
   "execution_count": 35,
   "id": "660392c8",
   "metadata": {},
   "outputs": [],
   "source": [
    "class Kangaroo(Marsupial):\n",
    "\n",
    "    def __init__(self, t1=0, t2=0):\n",
    "        super().__init__()\n",
    "        self.t1 = t1\n",
    "        self.t2 = t2\n",
    "\n",
    "    def jump(self, dx, dy):\n",
    "        self.t1 += dx\n",
    "        self.t2 += dy\n",
    "\n",
    "    def __str__(self):\n",
    "        return (f\"I am a Kangaroo located at coordinates ({self.t1},{self.t2})\")"
   ]
  },
  {
   "cell_type": "code",
   "execution_count": 36,
   "id": "8a0c9ab0",
   "metadata": {},
   "outputs": [
    {
     "name": "stdout",
     "output_type": "stream",
     "text": [
      "I am a Kangaroo located at coordinates (0,0)\n",
      "['doll', 'firetruck', 'kitten']\n",
      "I am a Kangaroo located at coordinates (3,0)\n"
     ]
    }
   ],
   "source": [
    "k = Kangaroo(0,0)\n",
    "print(k)\n",
    "\n",
    "k.put_in_pouch('doll')\n",
    "k.put_in_pouch('firetruck')\n",
    "k.put_in_pouch('kitten')\n",
    "print(k.pouch_contents())\n",
    "\n",
    "k.jump(1,0)\n",
    "k.jump(1,0)\n",
    "k.jump(1,0)\n",
    "print(k)"
   ]
  },
  {
   "cell_type": "markdown",
   "id": "005bb125",
   "metadata": {},
   "source": [
    "## Question 4"
   ]
  },
  {
   "cell_type": "code",
   "execution_count": 40,
   "id": "15cd4c30",
   "metadata": {},
   "outputs": [],
   "source": [
    "def collatz(y):\n",
    "    print(y)\n",
    "\n",
    "    if y == 1:\n",
    "        return\n",
    "\n",
    "    elif y % 2 == 0:\n",
    "        collatz(y // 2)\n",
    "\n",
    "    else:\n",
    "        collatz(3 * y + 1)"
   ]
  },
  {
   "cell_type": "code",
   "execution_count": 41,
   "id": "517d6bc8",
   "metadata": {},
   "outputs": [
    {
     "name": "stdout",
     "output_type": "stream",
     "text": [
      "1\n"
     ]
    }
   ],
   "source": [
    "collatz(1)"
   ]
  },
  {
   "cell_type": "code",
   "execution_count": 42,
   "id": "cdaaa807",
   "metadata": {},
   "outputs": [
    {
     "name": "stdout",
     "output_type": "stream",
     "text": [
      "10\n",
      "5\n",
      "16\n",
      "8\n",
      "4\n",
      "2\n",
      "1\n"
     ]
    }
   ],
   "source": [
    "collatz(10)"
   ]
  },
  {
   "cell_type": "markdown",
   "id": "93f6f83d",
   "metadata": {},
   "source": [
    "## Question 5"
   ]
  },
  {
   "cell_type": "code",
   "execution_count": 44,
   "id": "fd8263f2",
   "metadata": {},
   "outputs": [],
   "source": [
    "def binary(n):\n",
    "    result = \"\"\n",
    "    if n == 0:\n",
    "        return \"0\"\n",
    "    while n > 0:\n",
    "        result = str(n % 2) + result\n",
    "        n //= 2\n",
    "    return result"
   ]
  },
  {
   "cell_type": "code",
   "execution_count": 45,
   "id": "5c63ed01",
   "metadata": {},
   "outputs": [
    {
     "data": {
      "text/plain": [
       "'0'"
      ]
     },
     "execution_count": 45,
     "metadata": {},
     "output_type": "execute_result"
    }
   ],
   "source": [
    "binary(0)"
   ]
  },
  {
   "cell_type": "code",
   "execution_count": 46,
   "id": "da881df5",
   "metadata": {},
   "outputs": [
    {
     "data": {
      "text/plain": [
       "'1'"
      ]
     },
     "execution_count": 46,
     "metadata": {},
     "output_type": "execute_result"
    }
   ],
   "source": [
    "binary(1)"
   ]
  },
  {
   "cell_type": "code",
   "execution_count": 47,
   "id": "5ce8e4ae",
   "metadata": {},
   "outputs": [
    {
     "data": {
      "text/plain": [
       "'11'"
      ]
     },
     "execution_count": 47,
     "metadata": {},
     "output_type": "execute_result"
    }
   ],
   "source": [
    "binary(3)"
   ]
  },
  {
   "cell_type": "code",
   "execution_count": 48,
   "id": "43f93f82",
   "metadata": {},
   "outputs": [
    {
     "data": {
      "text/plain": [
       "'1001'"
      ]
     },
     "execution_count": 48,
     "metadata": {},
     "output_type": "execute_result"
    }
   ],
   "source": [
    "binary(9)"
   ]
  },
  {
   "cell_type": "markdown",
   "id": "20abd872",
   "metadata": {},
   "source": [
    "## question 6"
   ]
  },
  {
   "cell_type": "code",
   "execution_count": 36,
   "id": "f8f343e3",
   "metadata": {},
   "outputs": [
    {
     "name": "stdout",
     "output_type": "stream",
     "text": [
      "W3C Mission\n",
      "  Principles\n"
     ]
    }
   ],
   "source": [
    "from html.parser import HTMLParser\n",
    "\n",
    "class HeadingParser(HTMLParser):\n",
    "    def __init__(self):\n",
    "        super().__init__()\n",
    "        self.file_header = 0\n",
    "        self.header = False\n",
    "\n",
    " \n",
    "\n",
    "    def handle_starttag(self, tag, attrs):\n",
    "        if tag == 'h1':\n",
    "            self.file_header = 1\n",
    "            self.header = True\n",
    "        elif tag == 'h2':\n",
    "            self.file_header = 2\n",
    "            self.header = True\n",
    "        else:\n",
    "            self.header = False\n",
    "\n",
    " \n",
    "\n",
    "    def handle_data(self, data):\n",
    "        if self.header:\n",
    "            indent = '  ' * (self.file_header - 1)\n",
    "            header_content = data.strip()\n",
    "            if header_content:\n",
    "                print(f\"{indent}{header_content}\")\n",
    "\n",
    " \n",
    "\n",
    "\n",
    "file_link = r\"C:/Users/Admin/Desktop/Sem 1/BDAT 1004 D.P Roshan sahu/Assignment/ProblemSet2/w3c.html\"\n",
    "with open(file_link, 'r') as infile:\n",
    "    content = infile.read()\n",
    "\n",
    " \n",
    "\n",
    "hp = HeadingParser()\n",
    "hp.feed(content)"
   ]
  },
  {
   "cell_type": "markdown",
   "id": "fd0949d8",
   "metadata": {},
   "source": [
    "## Question 7"
   ]
  },
  {
   "cell_type": "code",
   "execution_count": 23,
   "id": "6518a4d2",
   "metadata": {},
   "outputs": [],
   "source": [
    "from html.parser import HTMLParser\n",
    "from urllib.request import urlopen\n",
    "from urllib.parse import urljoin\n",
    "\n",
    "class MyHTMLParser(HTMLParser):\n",
    "    def __init__(self):\n",
    "        super().__init__()\n",
    "        self.links = []\n",
    "    \n",
    "    def handle_starttag(self, tag, attrs):\n",
    "        if tag == 'a':\n",
    "            href = dict(attrs).get('href')\n",
    "            if href:\n",
    "                self.links.append(href)\n",
    "\n",
    "def webdir(url, depth, indent):\n",
    "    print(\" \" * indent, url)\n",
    "    if depth == 0:\n",
    "        return\n",
    "    try:\n",
    "        response = urlopen(url)\n",
    "        html_content = response.read().decode()\n",
    "    except:\n",
    "        return\n",
    "    parser = MyHTMLParser()\n",
    "    parser.feed(html_content)\n",
    "    links = parser.links\n",
    "    for link in links:\n",
    "        sub_url = urljoin(url, link)\n",
    "        webdir(sub_url, depth - 1, indent + 4)"
   ]
  },
  {
   "cell_type": "code",
   "execution_count": 24,
   "id": "e7dccb01",
   "metadata": {},
   "outputs": [
    {
     "name": "stdout",
     "output_type": "stream",
     "text": [
      " https://reed.cs.depaul.edu/lperkovic/\n",
      "     http://www.cdm.depaul.edu/about/Pages/School-of-Computing.aspx\n",
      "     http://www.cdm.depaul.edu\n",
      "     https://reed.cs.depaul.edu/lperkovic/courses/csc241/\n",
      "     https://reed.cs.depaul.edu/lperkovic/courses/csc242/\n",
      "     https://reed.cs.depaul.edu/lperkovic/papers/papers.html\n"
     ]
    }
   ],
   "source": [
    "url = \"https://reed.cs.depaul.edu/lperkovic/\"\n",
    "depth = 2\n",
    "indent = 0\n",
    "webdir(url, depth, indent)"
   ]
  },
  {
   "cell_type": "markdown",
   "id": "e3d7f7f7",
   "metadata": {},
   "source": [
    "## Question 8"
   ]
  },
  {
   "cell_type": "code",
   "execution_count": 1,
   "id": "3b779dcc",
   "metadata": {},
   "outputs": [
    {
     "name": "stdout",
     "output_type": "stream",
     "text": [
      "value added\n",
      "value added\n"
     ]
    }
   ],
   "source": [
    "import sqlite3\n",
    "\n",
    "conn = sqlite3.connect('weather.db')\n",
    "cursor = conn.cursor()\n",
    "\n",
    "create_table_query = '''\n",
    "CREATE TABLE IF NOT EXISTS temperature (\n",
    "    City VARCHAR,\n",
    "    Country VARCHAR,\n",
    "    Season VARCHAR,\n",
    "    Temperature FLOAT,\n",
    "    Rainfall FLOAT\n",
    ")\n",
    "'''\n",
    "\n",
    "cursor.execute(create_table_query)\n",
    "\n",
    "import sqlite3\n",
    "\n",
    "\n",
    "conn = sqlite3.connect('weather.db')\n",
    "cursor = conn.cursor()\n",
    "\n",
    " \n",
    "create_table_query = '''\n",
    "CREATE TABLE IF NOT EXISTS temperature (\n",
    "    City VARCHAR,\n",
    "    Country VARCHAR,\n",
    "    Season VARCHAR,\n",
    "    Temperature FLOAT,\n",
    "    Rainfall FLOAT\n",
    ")\n",
    "'''\n",
    "\n",
    "cursor.execute(create_table_query)\n",
    "\n",
    "insert_query = '''\n",
    "INSERT INTO temperature (City, Country, Season, Temperature, Rainfall) VALUES (?, ?, ?, ?, ?)'''\n",
    "\n",
    "data = {\n",
    "    'City': ['Mumbai', 'Mumbai', 'Mumbai', 'Mumbai', 'London', 'London', 'London', 'London', 'Cairo', 'Cairo', 'Cairo', 'Cairo'],\n",
    "    'Country': ['India', 'India', 'India', 'India', 'United Kingdom', 'United Kingdom', 'United Kingdom', 'United Kingdom', 'Egypt', 'Egypt', 'Egypt', 'Egypt'],\n",
    "    'Season': ['Winter', 'Spring', 'Summer', 'Fall', 'Winter', 'Spring', 'Summer', 'Fall', 'Winter', 'Spring', 'Summer', 'Fall'],\n",
    "    'Temperature': [24.8, 28.4, 27.9, 27.6, 4.2, 8.3, 15.7, 10.4, 13.6, 20.7, 27.7, 22.2],\n",
    "    'Rainfall': [5.9, 16.2, 1549.4, 346.0, 207.7, 169.6, 157.0, 218.5, 16.5, 6.5, 0.1, 4.5]\n",
    "}\n",
    "\n",
    "for i in range(len(data['City'])):\n",
    "    cursor.execute(insert_query, (data['City'][i], data['Country'][i], data['Season'][i], data['Temperature'][i], data['Rainfall'][i]))\n",
    "\n",
    "conn.commit()\n",
    "\n",
    "\n",
    "print(\"value added\")\n",
    "\n",
    "table1 = {\n",
    "    'City': ['Mumbai', 'Mumbai', 'Mumbai', 'Mumbai', 'London', 'London', 'London', 'London', 'Cairo', 'Cairo', 'Cairo', 'Cairo'],\n",
    "    'Country': ['India', 'India', 'India', 'India', 'United Kingdom', 'United Kingdom', 'United Kingdom', 'United Kingdom', 'Egypt', 'Egypt', 'Egypt', 'Egypt'],\n",
    "    'Season': ['Winter', 'Spring', 'Summer', 'Fall', 'Winter', 'Spring', 'Summer', 'Fall', 'Winter', 'Spring', 'Summer', 'Fall'],\n",
    "    'Temperature': [24.8, 28.4, 27.9, 27.6, 4.2, 8.3, 15.7, 10.4, 13.6, 20.7, 27.7, 22.2],\n",
    "    'Rainfall': [5.9, 16.2, 1549.4, 346.0, 207.7, 169.6, 157.0, 218.5, 16.5, 6.5, 0.1, 4.5]\n",
    "}\n",
    "\n",
    "for i in range(len(table1['City'])):\n",
    "    cursor.execute(insert_query, (table1['City'][i], table1['Country'][i], table1['Season'][i], table1['Temperature'][i], table1['Rainfall'][i]))\n",
    "\n",
    "# Commit the changes and close the connection\n",
    "conn.commit()\n",
    "\n",
    "print(\"value added\")"
   ]
  },
  {
   "cell_type": "code",
   "execution_count": 3,
   "id": "5b881e6c",
   "metadata": {},
   "outputs": [
    {
     "name": "stdout",
     "output_type": "stream",
     "text": [
      "a) All the temperature data.\n",
      "('Mumbai', 'India', 'Winter', 24.8, 5.9)\n",
      "('Mumbai', 'India', 'Spring', 28.4, 16.2)\n",
      "('Mumbai', 'India', 'Summer', 27.9, 1549.4)\n",
      "('Mumbai', 'India', 'Fall', 27.6, 346.0)\n",
      "('London', 'United Kingdom', 'Winter', 4.2, 207.7)\n",
      "('London', 'United Kingdom', 'Spring', 8.3, 169.6)\n",
      "('London', 'United Kingdom', 'Summer', 15.7, 157.0)\n",
      "('London', 'United Kingdom', 'Fall', 10.4, 218.5)\n",
      "('Cairo', 'Egypt', 'Winter', 13.6, 16.5)\n",
      "('Cairo', 'Egypt', 'Spring', 20.7, 6.5)\n",
      "('Cairo', 'Egypt', 'Summer', 27.7, 0.1)\n",
      "('Cairo', 'Egypt', 'Fall', 22.2, 4.5)\n",
      "('Mumbai', 'India', 'Winter', 24.8, 5.9)\n",
      "('Mumbai', 'India', 'Spring', 28.4, 16.2)\n",
      "('Mumbai', 'India', 'Summer', 27.9, 1549.4)\n",
      "('Mumbai', 'India', 'Fall', 27.6, 346.0)\n",
      "('London', 'United Kingdom', 'Winter', 4.2, 207.7)\n",
      "('London', 'United Kingdom', 'Spring', 8.3, 169.6)\n",
      "('London', 'United Kingdom', 'Summer', 15.7, 157.0)\n",
      "('London', 'United Kingdom', 'Fall', 10.4, 218.5)\n",
      "('Cairo', 'Egypt', 'Winter', 13.6, 16.5)\n",
      "('Cairo', 'Egypt', 'Spring', 20.7, 6.5)\n",
      "('Cairo', 'Egypt', 'Summer', 27.7, 0.1)\n",
      "('Cairo', 'Egypt', 'Fall', 22.2, 4.5)\n",
      "\n",
      "b) All the cities, but without repetition.\n",
      "Mumbai\n",
      "London\n",
      "Cairo\n",
      "\n",
      "c) All the records for India.\n",
      "('Mumbai', 'India', 'Winter', 24.8, 5.9)\n",
      "('Mumbai', 'India', 'Spring', 28.4, 16.2)\n",
      "('Mumbai', 'India', 'Summer', 27.9, 1549.4)\n",
      "('Mumbai', 'India', 'Fall', 27.6, 346.0)\n",
      "('Mumbai', 'India', 'Winter', 24.8, 5.9)\n",
      "('Mumbai', 'India', 'Spring', 28.4, 16.2)\n",
      "('Mumbai', 'India', 'Summer', 27.9, 1549.4)\n",
      "('Mumbai', 'India', 'Fall', 27.6, 346.0)\n",
      "\n",
      "d) All the Fall records\n",
      "('Mumbai', 'India', 'Fall', 27.6, 346.0)\n",
      "('London', 'United Kingdom', 'Fall', 10.4, 218.5)\n",
      "('Cairo', 'Egypt', 'Fall', 22.2, 4.5)\n",
      "('Mumbai', 'India', 'Fall', 27.6, 346.0)\n",
      "('London', 'United Kingdom', 'Fall', 10.4, 218.5)\n",
      "('Cairo', 'Egypt', 'Fall', 22.2, 4.5)\n",
      "\n",
      "e) The city, country, and season for which the average rainfall is between 200 and 400 millimeters:\n",
      "('Mumbai', 'India', 'Fall')\n",
      "('London', 'United Kingdom', 'Winter')\n",
      "('London', 'United Kingdom', 'Fall')\n",
      "('Mumbai', 'India', 'Fall')\n",
      "('London', 'United Kingdom', 'Winter')\n",
      "('London', 'United Kingdom', 'Fall')\n",
      "\n",
      "f) The city and country for which the average Fall temperature is above 20 degrees, in increasing temperature order\n",
      "('Cairo', 'Egypt')\n",
      "('Cairo', 'Egypt')\n",
      "('Mumbai', 'India')\n",
      "('Mumbai', 'India')\n",
      "\n",
      "g) The total annual rainfall for Cairo.\n",
      "None\n",
      "\n",
      "h) The total rainfall for each season:\n",
      "('Fall', 1138.0)\n",
      "('Spring', 384.59999999999997)\n",
      "('Summer', 3413.0)\n",
      "('Winter', 460.2)\n"
     ]
    }
   ],
   "source": [
    "import sqlite3\n",
    "\n",
    " \n",
    "conn = sqlite3.connect('weather.db')\n",
    "cursor = conn.cursor()\n",
    "\n",
    " \n",
    "# a)\n",
    "query_a = \"SELECT * FROM temperature\"\n",
    "cursor.execute(query_a)\n",
    "result_a = cursor.fetchall()\n",
    "print(\"a) All the temperature data.\")\n",
    "for row in result_a:\n",
    "    print(row)\n",
    "\n",
    " \n",
    "# b)\n",
    "query_b = \"SELECT DISTINCT City FROM temperature\"\n",
    "cursor.execute(query_b)\n",
    "result_b = cursor.fetchall()\n",
    "print(\"\\nb) All the cities, but without repetition.\")\n",
    "for row in result_b:\n",
    "    print(row[0])\n",
    "\n",
    " \n",
    "# c)\n",
    "query_c = \"SELECT * FROM temperature WHERE Country = 'India'\"\n",
    "cursor.execute(query_c)\n",
    "result_c = cursor.fetchall()\n",
    "print(\"\\nc) All the records for India.\")\n",
    "for row in result_c:\n",
    "    print(row)\n",
    "\n",
    " \n",
    "# d)\n",
    "query_d = \"SELECT * FROM temperature WHERE Season = 'Fall'\"\n",
    "cursor.execute(query_d)\n",
    "result_d = cursor.fetchall()\n",
    "print(\"\\nd) All the Fall records\")\n",
    "for row in result_d:\n",
    "    print(row)\n",
    "\n",
    " \n",
    "# e)\n",
    "query_e = \"SELECT City, Country, Season FROM temperature WHERE Rainfall BETWEEN 200 AND 400\"\n",
    "cursor.execute(query_e)\n",
    "result_e = cursor.fetchall()\n",
    "print(\"\\ne) The city, country, and season for which the average rainfall is between 200 and 400 millimeters:\")\n",
    "for row in result_e:\n",
    "    print(row)\n",
    "\n",
    " \n",
    "# f)\n",
    "query_f = \"SELECT City, Country FROM temperature WHERE Season = 'Fall' AND Temperature > 20 ORDER BY Temperature\"\n",
    "cursor.execute(query_f)\n",
    "result_f = cursor.fetchall()\n",
    "print(\"\\nf) The city and country for which the average Fall temperature is above 20 degrees, in increasing temperature order\")\n",
    "for row in result_f:\n",
    "    print(row)\n",
    "\n",
    " \n",
    "# g)\n",
    "query_g = \"SELECT SUM(Rainfall) FROM temperature WHERE Country = 'Cairo'\"\n",
    "cursor.execute(query_g)\n",
    "result_g = cursor.fetchone()[0]\n",
    "print(\"\\ng) The total annual rainfall for Cairo.\")\n",
    "print(result_g)\n",
    "\n",
    " \n",
    "# h)\n",
    "query_h = \"SELECT Season, SUM(Rainfall) FROM temperature GROUP BY Season\"\n",
    "cursor.execute(query_h)\n",
    "result_h = cursor.fetchall()\n",
    "print(\"\\nh) The total rainfall for each season:\")\n",
    "for row in result_h:\n",
    "    print(row)\n",
    "\n",
    " \n",
    "# Close the connection\n",
    "conn.close()\n"
   ]
  },
  {
   "cell_type": "markdown",
   "id": "d3efdcf5",
   "metadata": {},
   "source": [
    "## Question 9"
   ]
  },
  {
   "cell_type": "code",
   "execution_count": 16,
   "id": "7cdd1ec3",
   "metadata": {
    "scrolled": true
   },
   "outputs": [
    {
     "name": "stdout",
     "output_type": "stream",
     "text": [
      "A) ['THE', 'QUICK', 'BROWN', 'FOX', 'JUMPS', 'OVER', 'THE', 'LAZY', 'DOG']\n",
      "B) ['the', 'quick', 'brown', 'fox', 'jumps', 'over', 'the', 'lazy', 'dog']\n",
      "C) [3, 5, 5, 3, 5, 4, 3, 4, 3]\n",
      "D)\n",
      "['THE', 'the', 3]\n",
      "['QUICK', 'quick', 5]\n",
      "['BROWN', 'brown', 5]\n",
      "['FOX', 'fox', 3]\n",
      "['JUMPS', 'jumps', 5]\n",
      "['OVER', 'over', 4]\n",
      "['THE', 'the', 3]\n",
      "['LAZY', 'lazy', 4]\n",
      "['DOG', 'dog', 3]\n",
      "E) ['quick', 'brown', 'jumps', 'over', 'lazy']\n"
     ]
    }
   ],
   "source": [
    "words = ('The', 'quick', 'brown', 'fox', 'jumps', 'over', 'the', 'lazy', 'dog')\n",
    "\n",
    "# Print uppercase words\n",
    "uppercase_words = [word.upper() for word in words]\n",
    "print(\"A)\",uppercase_words)\n",
    "\n",
    "# Print lowercase words\n",
    "lowercase_words = [word.lower() for word in words]\n",
    "print(\"B)\",lowercase_words)\n",
    "\n",
    "# Print the length of each word\n",
    "word_lengths = [len(word) for word in words]\n",
    "print(\"C)\",word_lengths)\n",
    "\n",
    "# Print the uppercase/lowercase version of each word, along with its length\n",
    "word_info = [[word.upper(), word.lower(), len(word)] for word in words]\n",
    "print(\"D)\")\n",
    "for word in word_info:\n",
    "    print(word)\n",
    "\n",
    "# Print words with length 4 or greater\n",
    "long_words = [word for word in words if len(word) >= 4]\n",
    "print(\"E)\",long_words)"
   ]
  }
 ],
 "metadata": {
  "kernelspec": {
   "display_name": "Python 3 (ipykernel)",
   "language": "python",
   "name": "python3"
  },
  "language_info": {
   "codemirror_mode": {
    "name": "ipython",
    "version": 3
   },
   "file_extension": ".py",
   "mimetype": "text/x-python",
   "name": "python",
   "nbconvert_exporter": "python",
   "pygments_lexer": "ipython3",
   "version": "3.10.9"
  }
 },
 "nbformat": 4,
 "nbformat_minor": 5
}
